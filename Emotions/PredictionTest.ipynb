{
 "cells": [
  {
   "cell_type": "markdown",
   "metadata": {},
   "source": [
    "Libraries"
   ]
  },
  {
   "cell_type": "code",
   "execution_count": 1,
   "metadata": {},
   "outputs": [],
   "source": [
    "import tensorflow as tf ; from tensorflow import keras ; import numpy as np ; import matplotlib.pyplot as plt\n"
   ]
  },
  {
   "cell_type": "markdown",
   "metadata": {},
   "source": [
    "Loading Model"
   ]
  },
  {
   "cell_type": "code",
   "execution_count": 2,
   "metadata": {},
   "outputs": [],
   "source": [
    "file = open(\"EmotionalFaces.json\" , \"r\")\n",
    "use = file.read()\n",
    "file.close()\n",
    "model = keras.models.model_from_json(use)\n",
    "model.load_weights(\"EmotionalFaces.h5\")\n",
    "\n",
    "Labels = [\"angry\" , \"disgusted\",  \"fearful\" , \"happy\" , \"neutral\" , \"sad\" , \"suprised\"]"
   ]
  },
  {
   "cell_type": "markdown",
   "metadata": {},
   "source": [
    "Extracting data from images"
   ]
  },
  {
   "cell_type": "code",
   "execution_count": 3,
   "metadata": {},
   "outputs": [],
   "source": [
    "def Image_To_Data(images):\n",
    "\n",
    "    img = keras.preprocessing.image.load_img(image , color_mode=\"grayscale\")\n",
    "    features = np.array(img)\n",
    "    features = features.reshape(1,48,48,1)\n",
    "    return features/255.0"
   ]
  },
  {
   "cell_type": "code",
   "execution_count": 22,
   "metadata": {},
   "outputs": [
    {
     "name": "stdout",
     "output_type": "stream",
     "text": [
      "\u001b[1m1/1\u001b[0m \u001b[32m━━━━━━━━━━━━━━━━━━━━\u001b[0m\u001b[37m\u001b[0m \u001b[1m0s\u001b[0m 18ms/step\n"
     ]
    }
   ],
   "source": [
    "image = \"../../Data/Emotions/test/disgusted/im46.png\"\n",
    "sample = Image_To_Data(image)\n",
    "pred = model.predict(sample)\n",
    "Standard_pred = (pred>0.5).astype(int)"
   ]
  },
  {
   "cell_type": "markdown",
   "metadata": {},
   "source": [
    "Prediction"
   ]
  },
  {
   "cell_type": "code",
   "execution_count": 23,
   "metadata": {},
   "outputs": [
    {
     "name": "stdout",
     "output_type": "stream",
     "text": [
      "y_pred:suprised\n"
     ]
    },
    {
     "data": {
      "image/png": "[encoded data removed]",
      "text/plain": [
       "<Figure size 640x480 with 1 Axes>"
      ]
     },
     "metadata": {},
     "output_type": "display_data"
    }
   ],
   "source": [
    "index_pred = []\n",
    "prediction = float(max(pred[0]))\n",
    "\n",
    "for index , i in enumerate(Standard_pred[0] , 0):\n",
    "    if int(i) == 1:\n",
    "        index_pred.append(str(index))\n",
    "if len(index_pred)<1:\n",
    "    for index , i in enumerate(pred[0] , 0):\n",
    "        if float(i) == prediction:\n",
    "            index_pred.append(index)\n",
    "\n",
    "plt.imshow(sample.reshape(48,48) , cmap = \"gray\")\n",
    "print(f\"y_pred:{Labels[int(index_pred[0])]}\")\n"
   ]
  }
 ],
 "metadata": {
  "kernelspec": {
   "display_name": "VirtualEnv",
   "language": "python",
   "name": "python3"
  },
  "language_info": {
   "codemirror_mode": {
    "name": "ipython",
    "version": 3
   },
   "file_extension": ".py",
   "mimetype": "text/x-python",
   "name": "python",
   "nbconvert_exporter": "python",
   "pygments_lexer": "ipython3",
   "version": "3.12.2"
  }
 },
 "nbformat": 4,
 "nbformat_minor": 2
}
