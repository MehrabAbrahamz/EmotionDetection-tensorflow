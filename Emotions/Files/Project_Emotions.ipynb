{
 "cells": [
  {
   "cell_type": "markdown",
   "metadata": {},
   "source": [
    "Libraries"
   ]
  },
  {
   "cell_type": "code",
   "execution_count": 9,
   "metadata": {},
   "outputs": [],
   "source": [
    "import tensorflow as tf ; import numpy as np ; import matplotlib.pyplot as plt ; import pandas as pd\n",
    "from tensorflow import keras ; from tqdm import tqdm ; from keras.preprocessing.image import load_img\n",
    "import os "
   ]
  },
  {
   "cell_type": "code",
   "execution_count": 10,
   "metadata": {},
   "outputs": [],
   "source": [
    "Train_directory = \"../Emotions_Data/train\"\n",
    "Test_directory = \"../Emotions_Data/test\""
   ]
  },
  {
   "cell_type": "markdown",
   "metadata": {},
   "source": [
    "Making Dataframe"
   ]
  },
  {
   "cell_type": "code",
   "execution_count": 11,
   "metadata": {},
   "outputs": [],
   "source": [
    "def creat_df(dir):\n",
    "\n",
    "    Image = []\n",
    "    Labels = []\n",
    "    num = 1000\n",
    "    for DirectoryName in os.listdir(dir):\n",
    "        for ImageName in os.listdir(os.path.join(dir , DirectoryName)):\n",
    "            Images_count.append(ImageName)\n"
    "            if len(Images_count) >= num:\n",
    "                for i in range(1 , num):\n",
    "                    Images.append(os.path.join(dir + "/" + DirectoryName + f"/im{i}.png"))\n",
    "                    Labels.append(DirectoryName)\n",
    "            else:\n",
    "                for i in range(1 , len(Images_count)):/n",
    "                    Images.append(os.path.join(dir + "/" + DirectoryName + f"/im{i}.png"))\n",
    "                    Labels.append(DirectoryName)\n",
    "        print(f\"{dir.split(\"../Emotions_Data/\")[1]}: {DirectoryName} Added.\")\n",
    "    return(Image , Labels)"
   ]
  },
  {
   "cell_type": "code",
   "execution_count": 12,
   "metadata": {},
   "outputs": [
    {
     "name": "stdout",
     "output_type": "stream",
     "text": [
      "train: angry Added.\n",
      "train: disgusted Added.\n",
      "train: fearful Added.\n",
      "train: happy Added.\n",
      "train: neutral Added.\n",
      "train: sad Added.\n",
      "train: surprised Added.\n",
      "test: angry Added.\n",
      "test: disgusted Added.\n",
      "test: fearful Added.\n",
      "test: happy Added.\n",
      "test: neutral Added.\n",
      "test: sad Added.\n",
      "test: surprised Added.\n"
     ]
    }
   ],
   "source": [
    "train = pd.DataFrame()\n",
    "train[\"Image\"] , train[\"Labels\"] = creat_df(Train_directory)\n",
    "test = pd.DataFrame()\n",
    "test[\"Image\"] , test[\"Labels\"] = creat_df(Test_directory)"
   ]
  },
  {
   "cell_type": "code",
   "execution_count": 13,
   "metadata": {},
   "outputs": [
    {
     "data": {
      "text/plain": [
       "7"
      ]
     },
     "execution_count": 13,
     "metadata": {},
     "output_type": "execute_result"
    }
   ],
   "source": [
    "len(set(train[\"Labels\"])) # Number of labels"
   ]
  },
  {
   "cell_type": "code",
   "execution_count": 14,
   "metadata": {},
   "outputs": [
    {
     "data": {
      "text/plain": [
       "((28709, 2), (7178, 2))"
      ]
     },
     "execution_count": 14,
     "metadata": {},
     "output_type": "execute_result"
    }
   ],
   "source": [
    "train.shape , test.shape"
   ]
  },
  {
   "cell_type": "code",
   "execution_count": 15,
   "metadata": {},
   "outputs": [
    {
     "data": {
      "text/html": [
       "<div>\n",
       "<style scoped>\n",
       "    .dataframe tbody tr th:only-of-type {\n",
       "        vertical-align: middle;\n",
       "    }\n",
       "\n",
       "    .dataframe tbody tr th {\n",
       "        vertical-align: top;\n",
       "    }\n",
       "\n",
       "    .dataframe thead th {\n",
       "        text-align: right;\n",
       "    }\n",
       "</style>\n",
       "<table border=\"1\" class=\"dataframe\">\n",
       "  <thead>\n",
       "    <tr style=\"text-align: right;\">\n",
       "      <th></th>\n",
       "      <th>Image</th>\n",
       "      <th>Labels</th>\n",
       "    </tr>\n",
       "  </thead>\n",
       "  <tbody>\n",
       "    <tr>\n",
       "      <th>0</th>\n",
       "      <td>../Emotions_Data/train\\angry\\im0.png</td>\n",
       "      <td>angry</td>\n",
       "    </tr>\n",
       "    <tr>\n",
       "      <th>1</th>\n",
       "      <td>../Emotions_Data/train\\angry\\im1.png</td>\n",
       "      <td>angry</td>\n",
       "    </tr>\n",
       "    <tr>\n",
       "      <th>2</th>\n",
       "      <td>../Emotions_Data/train\\angry\\im10.png</td>\n",
       "      <td>angry</td>\n",
       "    </tr>\n",
       "    <tr>\n",
       "      <th>3</th>\n",
       "      <td>../Emotions_Data/train\\angry\\im100.png</td>\n",
       "      <td>angry</td>\n",
       "    </tr>\n",
       "    <tr>\n",
       "      <th>4</th>\n",
       "      <td>../Emotions_Data/train\\angry\\im1000.png</td>\n",
       "      <td>angry</td>\n",
       "    </tr>\n",
       "  </tbody>\n",
       "</table>\n",
       "</div>"
      ],
      "text/plain": [
       "                                     Image Labels\n",
       "0     ../Emotions_Data/train\\angry\\im0.png  angry\n",
       "1     ../Emotions_Data/train\\angry\\im1.png  angry\n",
       "2    ../Emotions_Data/train\\angry\\im10.png  angry\n",
       "3   ../Emotions_Data/train\\angry\\im100.png  angry\n",
       "4  ../Emotions_Data/train\\angry\\im1000.png  angry"
      ]
     },
     "execution_count": 15,
     "metadata": {},
     "output_type": "execute_result"
    }
   ],
   "source": [
    "train.head()"
   ]
  },
  {
   "cell_type": "markdown",
   "metadata": {},
   "source": [
    "Extracting data"
   ]
  },
  {
   "cell_type": "code",
   "execution_count": 16,
   "metadata": {},
   "outputs": [],
   "source": [
    "def Extracting_Features(images):\n",
    "\n",
    "    Features = []\n",
    "    for image in tqdm(images):\n",
    "        img = load_img(image , color_mode=\"grayscale\") # Image into PIL format\n",
    "        img = np.array(img)\n",
    "        Features.append(img)\n",
    "    Features = np.array(Features) # Making batch\n",
    "    Features = Features.reshape(len(Features) , 48,48,1) # channel = 1 and image size = 48*48\n",
    "    return Features"
   ]
  },
  {
   "cell_type": "code",
   "execution_count": 17,
   "metadata": {},
   "outputs": [
    {
     "name": "stderr",
     "output_type": "stream",
     "text": [
      "100%|██████████| 28709/28709 [01:04<00:00, 448.23it/s]\n",
      "100%|██████████| 7178/7178 [00:23<00:00, 311.65it/s]\n"
     ]
    }
   ],
   "source": [
    "train_features = Extracting_Features(train[\"Image\"])\n",
    "test_features = Extracting_Features(test[\"Image\"])"
   ]
  },
  {
   "cell_type": "markdown",
   "metadata": {},
   "source": [
    "Normalization"
   ]
  },
  {
   "cell_type": "code",
   "execution_count": 18,
   "metadata": {},
   "outputs": [],
   "source": [
    "x_train = train_features/255.0\n",
    "x_test = test_features/255.0"
   ]
  },
  {
   "cell_type": "markdown",
   "metadata": {},
   "source": [
    "Preprocessing"
   ]
  },
  {
   "cell_type": "code",
   "execution_count": 19,
   "metadata": {},
   "outputs": [],
   "source": [
    "from keras.utils import  to_categorical\n",
    "from sklearn.preprocessing import LabelEncoder\n",
    "\n",
    "Encoder = LabelEncoder()\n",
    "Encoder.fit(train[\"Labels\"])\n",
    "\n",
    "y_train = Encoder.transform(train[\"Labels\"])\n",
    "y_test = Encoder.transform(test[\"Labels\"])\n",
    "\n",
    "y_train = to_categorical(y_train.reshape(-1 , 1) , 7)\n",
    "y_test = to_categorical(y_test.reshape(-1 , 1) , 7)"
   ]
  },
  {
   "cell_type": "markdown",
   "metadata": {},
   "source": [
    "Model"
   ]
  },
  {
   "cell_type": "code",
   "execution_count": 33,
   "metadata": {},
   "outputs": [],
   "source": [
    "model = keras.Sequential()\n",
    "model.add(keras.layers.Input(shape = (48 , 48 , 1)))\n",
    "model.add(keras.layers.Conv2D(128 , kernel_size = (3 , 3) , strides = (1 , 1) , padding = \"valid\" , activation = \"relu\"))\n",
    "model.add(keras.layers.MaxPool2D(pool_size = (2 , 2)))\n",
    "model.add(keras.layers.Conv2D(64 , kernel_size = (3 , 3) , strides = (1 , 1) , padding = \"valid\" , activation = \"relu\"))\n",
    "model.add(keras.layers.MaxPool2D(pool_size = (2 , 2)))\n",
    "model.add(keras.layers.Conv2D(64 , kernel_size = (3 , 3) , strides = (1 , 1) , padding = \"valid\" , activation = \"relu\"))\n",
    "model.add(keras.layers.BatchNormalization())\n",
    "model.add(keras.layers.MaxPool2D(pool_size = (2 , 2)))\n",
    "model.add(keras.layers.Flatten())\n",
    "model.add(keras.layers.Dense(units = 128 , activation = \"relu\"))\n",
    "model.add(keras.layers.Dropout(0.3))\n",
    "model.add(keras.layers.Dense(units = 64 , activation = \"relu\"))\n",
    "model.add(keras.layers.Dropout(0.2))\n",
    "model.add(keras.layers.Dense(units = 7 , activation = \"softmax\"))\n",
    "\n",
    "model.compile(optimizer = \"adam\" , loss = tf.losses.categorical_crossentropy , metrics = [\"accuracy\"])"
   ]
  },
  {
   "cell_type": "code",
   "execution_count": 34,
   "metadata": {},
   "outputs": [
    {
     "data": {
      "text/html": [
       "<pre style=\"white-space:pre;overflow-x:auto;line-height:normal;font-family:Menlo,'DejaVu Sans Mono',consolas,'Courier New',monospace\"><span style=\"font-weight: bold\">Model: \"sequential_4\"</span>\n",
       "</pre>\n"
      ],
      "text/plain": [
       "\u001b[1mModel: \"sequential_4\"\u001b[0m\n"
      ]
     },
     "metadata": {},
     "output_type": "display_data"
    },
    {
     "data": {
      "text/html": [
       "<pre style=\"white-space:pre;overflow-x:auto;line-height:normal;font-family:Menlo,'DejaVu Sans Mono',consolas,'Courier New',monospace\">┏━━━━━━━━━━━━━━━━━━━━━━━━━━━━━━━━━┳━━━━━━━━━━━━━━━━━━━━━━━━┳━━━━━━━━━━━━━━━┓\n",
       "┃<span style=\"font-weight: bold\"> Layer (type)                    </span>┃<span style=\"font-weight: bold\"> Output Shape           </span>┃<span style=\"font-weight: bold\">       Param # </span>┃\n",
       "┡━━━━━━━━━━━━━━━━━━━━━━━━━━━━━━━━━╇━━━━━━━━━━━━━━━━━━━━━━━━╇━━━━━━━━━━━━━━━┩\n",
       "│ conv2d_12 (<span style=\"color: #0087ff; text-decoration-color: #0087ff\">Conv2D</span>)              │ (<span style=\"color: #00d7ff; text-decoration-color: #00d7ff\">None</span>, <span style=\"color: #00af00; text-decoration-color: #00af00\">46</span>, <span style=\"color: #00af00; text-decoration-color: #00af00\">46</span>, <span style=\"color: #00af00; text-decoration-color: #00af00\">128</span>)    │         <span style=\"color: #00af00; text-decoration-color: #00af00\">1,280</span> │\n",
       "├─────────────────────────────────┼────────────────────────┼───────────────┤\n",
       "│ max_pooling2d_12 (<span style=\"color: #0087ff; text-decoration-color: #0087ff\">MaxPooling2D</span>) │ (<span style=\"color: #00d7ff; text-decoration-color: #00d7ff\">None</span>, <span style=\"color: #00af00; text-decoration-color: #00af00\">23</span>, <span style=\"color: #00af00; text-decoration-color: #00af00\">23</span>, <span style=\"color: #00af00; text-decoration-color: #00af00\">128</span>)    │             <span style=\"color: #00af00; text-decoration-color: #00af00\">0</span> │\n",
       "├─────────────────────────────────┼────────────────────────┼───────────────┤\n",
       "│ conv2d_13 (<span style=\"color: #0087ff; text-decoration-color: #0087ff\">Conv2D</span>)              │ (<span style=\"color: #00d7ff; text-decoration-color: #00d7ff\">None</span>, <span style=\"color: #00af00; text-decoration-color: #00af00\">21</span>, <span style=\"color: #00af00; text-decoration-color: #00af00\">21</span>, <span style=\"color: #00af00; text-decoration-color: #00af00\">64</span>)     │        <span style=\"color: #00af00; text-decoration-color: #00af00\">73,792</span> │\n",
       "├─────────────────────────────────┼────────────────────────┼───────────────┤\n",
       "│ max_pooling2d_13 (<span style=\"color: #0087ff; text-decoration-color: #0087ff\">MaxPooling2D</span>) │ (<span style=\"color: #00d7ff; text-decoration-color: #00d7ff\">None</span>, <span style=\"color: #00af00; text-decoration-color: #00af00\">10</span>, <span style=\"color: #00af00; text-decoration-color: #00af00\">10</span>, <span style=\"color: #00af00; text-decoration-color: #00af00\">64</span>)     │             <span style=\"color: #00af00; text-decoration-color: #00af00\">0</span> │\n",
       "├─────────────────────────────────┼────────────────────────┼───────────────┤\n",
       "│ conv2d_14 (<span style=\"color: #0087ff; text-decoration-color: #0087ff\">Conv2D</span>)              │ (<span style=\"color: #00d7ff; text-decoration-color: #00d7ff\">None</span>, <span style=\"color: #00af00; text-decoration-color: #00af00\">8</span>, <span style=\"color: #00af00; text-decoration-color: #00af00\">8</span>, <span style=\"color: #00af00; text-decoration-color: #00af00\">64</span>)       │        <span style=\"color: #00af00; text-decoration-color: #00af00\">36,928</span> │\n",
       "├─────────────────────────────────┼────────────────────────┼───────────────┤\n",
       "│ batch_normalization_4           │ (<span style=\"color: #00d7ff; text-decoration-color: #00d7ff\">None</span>, <span style=\"color: #00af00; text-decoration-color: #00af00\">8</span>, <span style=\"color: #00af00; text-decoration-color: #00af00\">8</span>, <span style=\"color: #00af00; text-decoration-color: #00af00\">64</span>)       │           <span style=\"color: #00af00; text-decoration-color: #00af00\">256</span> │\n",
       "│ (<span style=\"color: #0087ff; text-decoration-color: #0087ff\">BatchNormalization</span>)            │                        │               │\n",
       "├─────────────────────────────────┼────────────────────────┼───────────────┤\n",
       "│ max_pooling2d_14 (<span style=\"color: #0087ff; text-decoration-color: #0087ff\">MaxPooling2D</span>) │ (<span style=\"color: #00d7ff; text-decoration-color: #00d7ff\">None</span>, <span style=\"color: #00af00; text-decoration-color: #00af00\">4</span>, <span style=\"color: #00af00; text-decoration-color: #00af00\">4</span>, <span style=\"color: #00af00; text-decoration-color: #00af00\">64</span>)       │             <span style=\"color: #00af00; text-decoration-color: #00af00\">0</span> │\n",
       "├─────────────────────────────────┼────────────────────────┼───────────────┤\n",
       "│ flatten_4 (<span style=\"color: #0087ff; text-decoration-color: #0087ff\">Flatten</span>)             │ (<span style=\"color: #00d7ff; text-decoration-color: #00d7ff\">None</span>, <span style=\"color: #00af00; text-decoration-color: #00af00\">1024</span>)           │             <span style=\"color: #00af00; text-decoration-color: #00af00\">0</span> │\n",
       "├─────────────────────────────────┼────────────────────────┼───────────────┤\n",
       "│ dense_12 (<span style=\"color: #0087ff; text-decoration-color: #0087ff\">Dense</span>)                │ (<span style=\"color: #00d7ff; text-decoration-color: #00d7ff\">None</span>, <span style=\"color: #00af00; text-decoration-color: #00af00\">128</span>)            │       <span style=\"color: #00af00; text-decoration-color: #00af00\">131,200</span> │\n",
       "├─────────────────────────────────┼────────────────────────┼───────────────┤\n",
       "│ dropout_8 (<span style=\"color: #0087ff; text-decoration-color: #0087ff\">Dropout</span>)             │ (<span style=\"color: #00d7ff; text-decoration-color: #00d7ff\">None</span>, <span style=\"color: #00af00; text-decoration-color: #00af00\">128</span>)            │             <span style=\"color: #00af00; text-decoration-color: #00af00\">0</span> │\n",
       "├─────────────────────────────────┼────────────────────────┼───────────────┤\n",
       "│ dense_13 (<span style=\"color: #0087ff; text-decoration-color: #0087ff\">Dense</span>)                │ (<span style=\"color: #00d7ff; text-decoration-color: #00d7ff\">None</span>, <span style=\"color: #00af00; text-decoration-color: #00af00\">64</span>)             │         <span style=\"color: #00af00; text-decoration-color: #00af00\">8,256</span> │\n",
       "├─────────────────────────────────┼────────────────────────┼───────────────┤\n",
       "│ dropout_9 (<span style=\"color: #0087ff; text-decoration-color: #0087ff\">Dropout</span>)             │ (<span style=\"color: #00d7ff; text-decoration-color: #00d7ff\">None</span>, <span style=\"color: #00af00; text-decoration-color: #00af00\">64</span>)             │             <span style=\"color: #00af00; text-decoration-color: #00af00\">0</span> │\n",
       "├─────────────────────────────────┼────────────────────────┼───────────────┤\n",
       "│ dense_14 (<span style=\"color: #0087ff; text-decoration-color: #0087ff\">Dense</span>)                │ (<span style=\"color: #00d7ff; text-decoration-color: #00d7ff\">None</span>, <span style=\"color: #00af00; text-decoration-color: #00af00\">7</span>)              │           <span style=\"color: #00af00; text-decoration-color: #00af00\">455</span> │\n",
       "└─────────────────────────────────┴────────────────────────┴───────────────┘\n",
       "</pre>\n"
      ],
      "text/plain": [
       "┏━━━━━━━━━━━━━━━━━━━━━━━━━━━━━━━━━┳━━━━━━━━━━━━━━━━━━━━━━━━┳━━━━━━━━━━━━━━━┓\n",
       "┃\u001b[1m \u001b[0m\u001b[1mLayer (type)                   \u001b[0m\u001b[1m \u001b[0m┃\u001b[1m \u001b[0m\u001b[1mOutput Shape          \u001b[0m\u001b[1m \u001b[0m┃\u001b[1m \u001b[0m\u001b[1m      Param #\u001b[0m\u001b[1m \u001b[0m┃\n",
       "┡━━━━━━━━━━━━━━━━━━━━━━━━━━━━━━━━━╇━━━━━━━━━━━━━━━━━━━━━━━━╇━━━━━━━━━━━━━━━┩\n",
       "│ conv2d_12 (\u001b[38;5;33mConv2D\u001b[0m)              │ (\u001b[38;5;45mNone\u001b[0m, \u001b[38;5;34m46\u001b[0m, \u001b[38;5;34m46\u001b[0m, \u001b[38;5;34m128\u001b[0m)    │         \u001b[38;5;34m1,280\u001b[0m │\n",
       "├─────────────────────────────────┼────────────────────────┼───────────────┤\n",
       "│ max_pooling2d_12 (\u001b[38;5;33mMaxPooling2D\u001b[0m) │ (\u001b[38;5;45mNone\u001b[0m, \u001b[38;5;34m23\u001b[0m, \u001b[38;5;34m23\u001b[0m, \u001b[38;5;34m128\u001b[0m)    │             \u001b[38;5;34m0\u001b[0m │\n",
       "├─────────────────────────────────┼────────────────────────┼───────────────┤\n",
       "│ conv2d_13 (\u001b[38;5;33mConv2D\u001b[0m)              │ (\u001b[38;5;45mNone\u001b[0m, \u001b[38;5;34m21\u001b[0m, \u001b[38;5;34m21\u001b[0m, \u001b[38;5;34m64\u001b[0m)     │        \u001b[38;5;34m73,792\u001b[0m │\n",
       "├─────────────────────────────────┼────────────────────────┼───────────────┤\n",
       "│ max_pooling2d_13 (\u001b[38;5;33mMaxPooling2D\u001b[0m) │ (\u001b[38;5;45mNone\u001b[0m, \u001b[38;5;34m10\u001b[0m, \u001b[38;5;34m10\u001b[0m, \u001b[38;5;34m64\u001b[0m)     │             \u001b[38;5;34m0\u001b[0m │\n",
       "├─────────────────────────────────┼────────────────────────┼───────────────┤\n",
       "│ conv2d_14 (\u001b[38;5;33mConv2D\u001b[0m)              │ (\u001b[38;5;45mNone\u001b[0m, \u001b[38;5;34m8\u001b[0m, \u001b[38;5;34m8\u001b[0m, \u001b[38;5;34m64\u001b[0m)       │        \u001b[38;5;34m36,928\u001b[0m │\n",
       "├─────────────────────────────────┼────────────────────────┼───────────────┤\n",
       "│ batch_normalization_4           │ (\u001b[38;5;45mNone\u001b[0m, \u001b[38;5;34m8\u001b[0m, \u001b[38;5;34m8\u001b[0m, \u001b[38;5;34m64\u001b[0m)       │           \u001b[38;5;34m256\u001b[0m │\n",
       "│ (\u001b[38;5;33mBatchNormalization\u001b[0m)            │                        │               │\n",
       "├─────────────────────────────────┼────────────────────────┼───────────────┤\n",
       "│ max_pooling2d_14 (\u001b[38;5;33mMaxPooling2D\u001b[0m) │ (\u001b[38;5;45mNone\u001b[0m, \u001b[38;5;34m4\u001b[0m, \u001b[38;5;34m4\u001b[0m, \u001b[38;5;34m64\u001b[0m)       │             \u001b[38;5;34m0\u001b[0m │\n",
       "├─────────────────────────────────┼────────────────────────┼───────────────┤\n",
       "│ flatten_4 (\u001b[38;5;33mFlatten\u001b[0m)             │ (\u001b[38;5;45mNone\u001b[0m, \u001b[38;5;34m1024\u001b[0m)           │             \u001b[38;5;34m0\u001b[0m │\n",
       "├─────────────────────────────────┼────────────────────────┼───────────────┤\n",
       "│ dense_12 (\u001b[38;5;33mDense\u001b[0m)                │ (\u001b[38;5;45mNone\u001b[0m, \u001b[38;5;34m128\u001b[0m)            │       \u001b[38;5;34m131,200\u001b[0m │\n",
       "├─────────────────────────────────┼────────────────────────┼───────────────┤\n",
       "│ dropout_8 (\u001b[38;5;33mDropout\u001b[0m)             │ (\u001b[38;5;45mNone\u001b[0m, \u001b[38;5;34m128\u001b[0m)            │             \u001b[38;5;34m0\u001b[0m │\n",
       "├─────────────────────────────────┼────────────────────────┼───────────────┤\n",
       "│ dense_13 (\u001b[38;5;33mDense\u001b[0m)                │ (\u001b[38;5;45mNone\u001b[0m, \u001b[38;5;34m64\u001b[0m)             │         \u001b[38;5;34m8,256\u001b[0m │\n",
       "├─────────────────────────────────┼────────────────────────┼───────────────┤\n",
       "│ dropout_9 (\u001b[38;5;33mDropout\u001b[0m)             │ (\u001b[38;5;45mNone\u001b[0m, \u001b[38;5;34m64\u001b[0m)             │             \u001b[38;5;34m0\u001b[0m │\n",
       "├─────────────────────────────────┼────────────────────────┼───────────────┤\n",
       "│ dense_14 (\u001b[38;5;33mDense\u001b[0m)                │ (\u001b[38;5;45mNone\u001b[0m, \u001b[38;5;34m7\u001b[0m)              │           \u001b[38;5;34m455\u001b[0m │\n",
       "└─────────────────────────────────┴────────────────────────┴───────────────┘\n"
      ]
     },
     "metadata": {},
     "output_type": "display_data"
    },
    {
     "data": {
      "text/html": [
       "<pre style=\"white-space:pre;overflow-x:auto;line-height:normal;font-family:Menlo,'DejaVu Sans Mono',consolas,'Courier New',monospace\"><span style=\"font-weight: bold\"> Total params: </span><span style=\"color: #00af00; text-decoration-color: #00af00\">252,167</span> (985.03 KB)\n",
       "</pre>\n"
      ],
      "text/plain": [
       "\u001b[1m Total params: \u001b[0m\u001b[38;5;34m252,167\u001b[0m (985.03 KB)\n"
      ]
     },
     "metadata": {},
     "output_type": "display_data"
    },
    {
     "data": {
      "text/html": [
       "<pre style=\"white-space:pre;overflow-x:auto;line-height:normal;font-family:Menlo,'DejaVu Sans Mono',consolas,'Courier New',monospace\"><span style=\"font-weight: bold\"> Trainable params: </span><span style=\"color: #00af00; text-decoration-color: #00af00\">252,039</span> (984.53 KB)\n",
       "</pre>\n"
      ],
      "text/plain": [
       "\u001b[1m Trainable params: \u001b[0m\u001b[38;5;34m252,039\u001b[0m (984.53 KB)\n"
      ]
     },
     "metadata": {},
     "output_type": "display_data"
    },
    {
     "data": {
      "text/html": [
       "<pre style=\"white-space:pre;overflow-x:auto;line-height:normal;font-family:Menlo,'DejaVu Sans Mono',consolas,'Courier New',monospace\"><span style=\"font-weight: bold\"> Non-trainable params: </span><span style=\"color: #00af00; text-decoration-color: #00af00\">128</span> (512.00 B)\n",
       "</pre>\n"
      ],
      "text/plain": [
       "\u001b[1m Non-trainable params: \u001b[0m\u001b[38;5;34m128\u001b[0m (512.00 B)\n"
      ]
     },
     "metadata": {},
     "output_type": "display_data"
    }
   ],
   "source": [
    "model.summary()"
   ]
  },
  {
   "cell_type": "markdown",
   "metadata": {},
   "source": [
    "Train"
   ]
  },
  {
   "cell_type": "code",
   "execution_count": 35,
   "metadata": {},
   "outputs": [
    {
     "name": "stdout",
     "output_type": "stream",
     "text": [
      "Epoch 1/10\n",
      "\u001b[1m113/113\u001b[0m \u001b[32m━━━━━━━━━━━━━━━━━━━━\u001b[0m\u001b[37m\u001b[0m \u001b[1m26s\u001b[0m 214ms/step - accuracy: 0.2578 - loss: 1.8052 - val_accuracy: 0.3413 - val_loss: 1.8223\n",
      "Epoch 2/10\n",
      "\u001b[1m113/113\u001b[0m \u001b[32m━━━━━━━━━━━━━━━━━━━━\u001b[0m\u001b[37m\u001b[0m \u001b[1m24s\u001b[0m 210ms/step - accuracy: 0.4065 - loss: 1.5353 - val_accuracy: 0.3461 - val_loss: 1.7505\n",
      "Epoch 3/10\n",
      "\u001b[1m113/113\u001b[0m \u001b[32m━━━━━━━━━━━━━━━━━━━━\u001b[0m\u001b[37m\u001b[0m \u001b[1m24s\u001b[0m 211ms/step - accuracy: 0.4477 - loss: 1.4273 - val_accuracy: 0.3488 - val_loss: 1.6932\n",
      "Epoch 4/10\n",
      "\u001b[1m113/113\u001b[0m \u001b[32m━━━━━━━━━━━━━━━━━━━━\u001b[0m\u001b[37m\u001b[0m \u001b[1m24s\u001b[0m 212ms/step - accuracy: 0.4843 - loss: 1.3417 - val_accuracy: 0.4037 - val_loss: 1.5875\n",
      "Epoch 5/10\n",
      "\u001b[1m113/113\u001b[0m \u001b[32m━━━━━━━━━━━━━━━━━━━━\u001b[0m\u001b[37m\u001b[0m \u001b[1m24s\u001b[0m 210ms/step - accuracy: 0.5058 - loss: 1.3019 - val_accuracy: 0.4415 - val_loss: 1.4278\n",
      "Epoch 6/10\n",
      "\u001b[1m113/113\u001b[0m \u001b[32m━━━━━━━━━━━━━━━━━━━━\u001b[0m\u001b[37m\u001b[0m \u001b[1m24s\u001b[0m 211ms/step - accuracy: 0.5244 - loss: 1.2521 - val_accuracy: 0.3430 - val_loss: 1.7906\n",
      "Epoch 7/10\n",
      "\u001b[1m113/113\u001b[0m \u001b[32m━━━━━━━━━━━━━━━━━━━━\u001b[0m\u001b[37m\u001b[0m \u001b[1m24s\u001b[0m 211ms/step - accuracy: 0.5350 - loss: 1.2136 - val_accuracy: 0.4721 - val_loss: 1.3775\n",
      "Epoch 8/10\n",
      "\u001b[1m113/113\u001b[0m \u001b[32m━━━━━━━━━━━━━━━━━━━━\u001b[0m\u001b[37m\u001b[0m \u001b[1m24s\u001b[0m 211ms/step - accuracy: 0.5520 - loss: 1.1779 - val_accuracy: 0.4288 - val_loss: 1.5173\n",
      "Epoch 9/10\n",
      "\u001b[1m113/113\u001b[0m \u001b[32m━━━━━━━━━━━━━━━━━━━━\u001b[0m\u001b[37m\u001b[0m \u001b[1m24s\u001b[0m 211ms/step - accuracy: 0.5643 - loss: 1.1510 - val_accuracy: 0.5049 - val_loss: 1.3116\n",
      "Epoch 10/10\n",
      "\u001b[1m113/113\u001b[0m \u001b[32m━━━━━━━━━━━━━━━━━━━━\u001b[0m\u001b[37m\u001b[0m \u001b[1m24s\u001b[0m 212ms/step - accuracy: 0.5743 - loss: 1.1238 - val_accuracy: 0.5437 - val_loss: 1.1946\n"
     ]
    }
   ],
   "source": [
    "hist = model.fit(x = x_train , y = y_train , epochs = 10 , batch_size = 256 , validation_data = (x_test , y_test))"
   ]
  },
  {
   "cell_type": "code",
   "execution_count": 37,
   "metadata": {},
   "outputs": [
    {
     "data": {
      "text/plain": [
       "[<matplotlib.lines.Line2D at 0x298142902f0>]"
      ]
     },
     "execution_count": 37,
     "metadata": {},
     "output_type": "execute_result"
    },
    {
     "data": {
      "image/png": "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",
      "text/plain": [
       "<Figure size 640x480 with 1 Axes>"
      ]
     },
     "metadata": {},
     "output_type": "display_data"
    }
   ],
   "source": [
    "plt.plot(hist.history[\"accuracy\"] , color = \"black\" , label = \"accuracy\")\n",
    "plt.plot(hist.history[\"val_accuracy\"] , color = \"red\" , label = \"val_accuracy\")\n",
    "plt.plot(hist.history[\"loss\"] , color = \"green\" , label = \"loss\")\n",
    "plt.plot(hist.history[\"val_loss\"] , color = \"blue\" , label = \"val_loss\")"
   ]
  },
  {
   "cell_type": "markdown",
   "metadata": {},
   "source": [
    "Saving"
   ]
  },
  {
   "cell_type": "code",
   "execution_count": 38,
   "metadata": {},
   "outputs": [
    {
     "name": "stderr",
     "output_type": "stream",
     "text": [
      "WARNING:absl:You are saving your model as an HDF5 file via `model.save()` or `keras.saving.save_model(model)`. This file format is considered legacy. We recommend using instead the native Keras format, e.g. `model.save('my_model.keras')` or `keras.saving.save_model(model, 'my_model.keras')`. \n"
     ]
    }
   ],
   "source": [
    "json = model.to_json()\n",
    "with open(\"EmotionalFaces.json\" , \"w\") as file:\n",
    "    file.write(json)\n",
    "model.save(\"EmotionalFaces.h5\")"
   ]
  }
 ],
 "metadata": {
  "kernelspec": {
   "display_name": "VirtualEnv",
   "language": "python",
   "name": "python3"
  },
  "language_info": {
   "codemirror_mode": {
    "name": "ipython",
    "version": 3
   },
   "file_extension": ".py",
   "mimetype": "text/x-python",
   "name": "python",
   "nbconvert_exporter": "python",
   "pygments_lexer": "ipython3",
   "version": "3.12.2"
  }
 },
 "nbformat": 4,
 "nbformat_minor": 2
}
